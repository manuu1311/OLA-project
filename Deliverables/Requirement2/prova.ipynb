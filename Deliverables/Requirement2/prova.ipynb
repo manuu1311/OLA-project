{
 "cells": [
  {
   "cell_type": "code",
   "execution_count": 2,
   "metadata": {},
   "outputs": [
    {
     "name": "stdout",
     "output_type": "stream",
     "text": [
      "# User 0\n",
      "Bids: [1.  1.  1.  0.5], Publisher Values: [0.8   0.65  0.5   0.375]\n"
     ]
    },
    {
     "ename": "NameError",
     "evalue": "name 'np' is not defined",
     "output_type": "error",
     "traceback": [
      "\u001b[0;31m---------------------------------------------------------------------------\u001b[0m",
      "\u001b[0;31mNameError\u001b[0m                                 Traceback (most recent call last)",
      "Cell \u001b[0;32mIn[2], line 19\u001b[0m\n\u001b[1;32m     17\u001b[0m pub_values \u001b[38;5;241m=\u001b[39m bids\u001b[38;5;241m*\u001b[39mctrs\n\u001b[1;32m     18\u001b[0m \u001b[38;5;28mprint\u001b[39m(\u001b[38;5;124mf\u001b[39m\u001b[38;5;124m'\u001b[39m\u001b[38;5;124mBids: \u001b[39m\u001b[38;5;132;01m{\u001b[39;00mbids\u001b[38;5;132;01m}\u001b[39;00m\u001b[38;5;124m, Publisher Values: \u001b[39m\u001b[38;5;132;01m{\u001b[39;00mpub_values\u001b[38;5;132;01m}\u001b[39;00m\u001b[38;5;124m'\u001b[39m)\n\u001b[0;32m---> 19\u001b[0m winner, payment_per_click \u001b[38;5;241m=\u001b[39m \u001b[43mauction\u001b[49m\u001b[38;5;241;43m.\u001b[39;49m\u001b[43mround\u001b[49m\u001b[43m(\u001b[49m\u001b[43mbids\u001b[49m\u001b[38;5;241;43m=\u001b[39;49m\u001b[43mbids\u001b[49m\u001b[43m)\u001b[49m\n\u001b[1;32m     20\u001b[0m \u001b[38;5;28mprint\u001b[39m(\u001b[38;5;124mf\u001b[39m\u001b[38;5;124m'\u001b[39m\u001b[38;5;124mAuction Winner: \u001b[39m\u001b[38;5;132;01m{\u001b[39;00mwinner\u001b[38;5;132;01m}\u001b[39;00m\u001b[38;5;124m, Payment-per-click: \u001b[39m\u001b[38;5;132;01m{\u001b[39;00mpayment_per_click\u001b[38;5;132;01m}\u001b[39;00m\u001b[38;5;124m'\u001b[39m)\n\u001b[1;32m     21\u001b[0m \u001b[38;5;28mprint\u001b[39m(\u001b[38;5;124mf\u001b[39m\u001b[38;5;124m'\u001b[39m\u001b[38;5;124mPayment == Bid : \u001b[39m\u001b[38;5;132;01m{\u001b[39;00mpayment_per_click\u001b[38;5;250m \u001b[39m\u001b[38;5;241m==\u001b[39m\u001b[38;5;250m \u001b[39mbids[winner]\u001b[38;5;132;01m}\u001b[39;00m\u001b[38;5;124m'\u001b[39m)\n",
      "File \u001b[0;32m~/OLA-project/Deliverables/Requirement2/bidding.py:12\u001b[0m, in \u001b[0;36mAuction.round\u001b[0;34m(self, bids)\u001b[0m\n\u001b[1;32m     11\u001b[0m \u001b[38;5;28;01mdef\u001b[39;00m \u001b[38;5;21mround\u001b[39m(\u001b[38;5;28mself\u001b[39m, bids):\n\u001b[0;32m---> 12\u001b[0m     winners, values \u001b[38;5;241m=\u001b[39m \u001b[38;5;28;43mself\u001b[39;49m\u001b[38;5;241;43m.\u001b[39;49m\u001b[43mget_winners\u001b[49m\u001b[43m(\u001b[49m\u001b[43mbids\u001b[49m\u001b[43m)\u001b[49m \u001b[38;5;66;03m# allocation mechanism!\u001b[39;00m\n\u001b[1;32m     13\u001b[0m     payments_per_click \u001b[38;5;241m=\u001b[39m \u001b[38;5;28mself\u001b[39m\u001b[38;5;241m.\u001b[39mget_payments_per_click(winners, values, bids)\n\u001b[1;32m     14\u001b[0m     \u001b[38;5;28;01mreturn\u001b[39;00m winners, payments_per_click\n",
      "File \u001b[0;32m~/OLA-project/Deliverables/Requirement2/bidding.py:23\u001b[0m, in \u001b[0;36mFirstPriceAuction.get_winners\u001b[0;34m(self, bids)\u001b[0m\n\u001b[1;32m     21\u001b[0m \u001b[38;5;28;01mdef\u001b[39;00m \u001b[38;5;21mget_winners\u001b[39m(\u001b[38;5;28mself\u001b[39m, bids):\n\u001b[1;32m     22\u001b[0m     adv_values \u001b[38;5;241m=\u001b[39m \u001b[38;5;28mself\u001b[39m\u001b[38;5;241m.\u001b[39mctrs\u001b[38;5;241m*\u001b[39mbids\n\u001b[0;32m---> 23\u001b[0m     adv_ranking \u001b[38;5;241m=\u001b[39m \u001b[43mnp\u001b[49m\u001b[38;5;241m.\u001b[39margsort(adv_values)\n\u001b[1;32m     24\u001b[0m     winner \u001b[38;5;241m=\u001b[39m adv_ranking[\u001b[38;5;241m-\u001b[39m\u001b[38;5;241m1\u001b[39m]\n\u001b[1;32m     25\u001b[0m     \u001b[38;5;28;01mreturn\u001b[39;00m winner, adv_values\n",
      "\u001b[0;31mNameError\u001b[0m: name 'np' is not defined"
     ]
    }
   ],
   "source": [
    "import numpy as np\n",
    "from environment import Environment\n",
    "from bidding import FirstPriceAuction\n",
    "\n",
    "# advertisers' fixed parameters\n",
    "n_adv = 4 # four advertisers\n",
    "ctrs = np.array([0.8, 0.65, 0.50, 0.75])\n",
    "v = np.array([0.7, 1.1, 1.4, 0.85])\n",
    "\n",
    "# environmental settings\n",
    "n_users= 3\n",
    "\n",
    "auction = FirstPriceAuction(ctrs=ctrs)\n",
    "for u in range(n_users):\n",
    "    print(f'# User {u}')\n",
    "    bids = np.random.choice([0.25, 0.5, 0.75, 1], size=n_adv)\n",
    "    pub_values = bids*ctrs\n",
    "    print(f'Bids: {bids}, Publisher Values: {pub_values}')\n",
    "    winner, payment_per_click = auction.round(bids=bids)\n",
    "    print(f'Auction Winner: {winner}, Payment-per-click: {payment_per_click}')\n",
    "    print(f'Payment == Bid : {payment_per_click == bids[winner]}')"
   ]
  }
 ],
 "metadata": {
  "kernelspec": {
   "display_name": "OLA",
   "language": "python",
   "name": "python3"
  },
  "language_info": {
   "codemirror_mode": {
    "name": "ipython",
    "version": 3
   },
   "file_extension": ".py",
   "mimetype": "text/x-python",
   "name": "python",
   "nbconvert_exporter": "python",
   "pygments_lexer": "ipython3",
   "version": "3.12.2"
  }
 },
 "nbformat": 4,
 "nbformat_minor": 2
}
