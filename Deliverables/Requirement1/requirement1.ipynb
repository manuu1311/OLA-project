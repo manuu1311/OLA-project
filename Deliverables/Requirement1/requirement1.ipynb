{
 "cells": [
  {
   "cell_type": "markdown",
   "metadata": {},
   "source": [
    "# Requirement 1"
   ]
  },
  {
   "cell_type": "markdown",
   "metadata": {},
   "source": [
    "### Structure"
   ]
  },
  {
   "cell_type": "code",
   "execution_count": 1,
   "metadata": {},
   "outputs": [
    {
     "ename": "SyntaxError",
     "evalue": "incomplete input (2836940658.py, line 16)",
     "output_type": "error",
     "traceback": [
      "\u001b[1;36m  Cell \u001b[1;32mIn[1], line 16\u001b[1;36m\u001b[0m\n\u001b[1;33m    \u001b[0m\n\u001b[1;37m    ^\u001b[0m\n\u001b[1;31mSyntaxError\u001b[0m\u001b[1;31m:\u001b[0m incomplete input\n"
     ]
    }
   ],
   "source": [
    "n_companies = 3\n",
    "days = 10\n",
    "\n",
    "bidding_agent=UCBlike_agent()\n",
    "bidding_env=bidenv()\n",
    "pricing_agent=GP_agent()\n",
    "pricing_env=pricenv()\n",
    "auction_env=auction(bidding_env, pricing_env)\n",
    "for c in range(n_companies):\n",
    "    for d in range(days):\n",
    "        #choose price\n",
    "        price=pricing_agent.ChoosePrice()\n",
    "\n",
    "        #BIDDING\n",
    "        bid = bidding_agent.ChooseBid(price)\n",
    "        win_count = auction_env.round(bid)\n",
    "        bidding_agent.update(bid,win_count)\n",
    "\n",
    "        #PRICING\n",
    "        d,r=auction_env.sell(price)\n",
    "        pricing_agent.update(price,r/d)"
   ]
  },
  {
   "cell_type": "markdown",
   "metadata": {},
   "source": [
    "### This way we change bid value many times for the same price. Then each day we chamge the price p and we try with different prices"
   ]
  },
  {
   "cell_type": "markdown",
   "metadata": {},
   "source": []
  }
 ],
 "metadata": {
  "kernelspec": {
   "display_name": "Python 3",
   "language": "python",
   "name": "python3"
  },
  "language_info": {
   "codemirror_mode": {
    "name": "ipython",
    "version": 3
   },
   "file_extension": ".py",
   "mimetype": "text/x-python",
   "name": "python",
   "nbconvert_exporter": "python",
   "pygments_lexer": "ipython3",
   "version": "3.12.3"
  }
 },
 "nbformat": 4,
 "nbformat_minor": 2
}
