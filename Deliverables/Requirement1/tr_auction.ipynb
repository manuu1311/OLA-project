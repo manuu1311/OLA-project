{
 "cells": [
  {
   "cell_type": "code",
   "execution_count": 5,
   "metadata": {},
   "outputs": [],
   "source": [
    "import numpy as np\n",
    "import matplotlib.pyplot as plt\n",
    "from bidding_environment import Auction,SecondPriceAuction\n",
    "from bidding_agent import MultiplicativePacingAgent"
   ]
  },
  {
   "cell_type": "markdown",
   "metadata": {},
   "source": []
  },
  {
   "cell_type": "code",
   "execution_count": 15,
   "metadata": {},
   "outputs": [],
   "source": [
    "# publisher's parameters\n",
    "n_slots = 1\n",
    "lmbd = 1\n",
    "\n",
    "#enviromental settings\n",
    "n_users = 10\n",
    "\n",
    "# avdertisers' parameters\n",
    "q = 1\n",
    "v = 0.8 \n",
    "n_adv = 4\n",
    "B = 300\n",
    "rho = B/n_users\n"
   ]
  },
  {
   "cell_type": "code",
   "execution_count": null,
   "metadata": {},
   "outputs": [],
   "source": [
    "\n",
    "#bids_distribution = np.random.rayleigh\n",
    "\n",
    "other_bids = bids_distribution\n",
    "m_t = other_bids.max(x = 0)\n",
    "\n",
    "auction = SecondPriceAuction(q)\n"
   ]
  },
  {
   "cell_type": "markdown",
   "metadata": {},
   "source": [
    "## Linear programming "
   ]
  },
  {
   "cell_type": "markdown",
   "metadata": {},
   "source": [
    "### We are in a stochastic enviroment so we can use the notion of clairvoyant in expectation "
   ]
  },
  {
   "cell_type": "markdown",
   "metadata": {},
   "source": [
    "#### with linear programming we have to optimize $\\gamma(b)$ in:\n",
    "$$ maximize~~~ \\sum_b \\gamma(b)(v - b)\\mathbb{P}_m(b \\ge m) ~~~ s.t. \\sum_b b \\gamma(b) \\mathbb{P}_m(b \\ge m) \\le \\rho,$$"
   ]
  },
  {
   "cell_type": "code",
   "execution_count": null,
   "metadata": {},
   "outputs": [],
   "source": [
    "## Linear Program\n",
    "c = -(v-other_bids)*win_probabilities\n",
    "A_ub = [available_bids*win_probabilities]\n",
    "b_ub = [rho]\n",
    "A_eq = [np.ones(len(available_bids))]\n",
    "b_eq =[1]\n",
    "res = optimize.linprog(c, A_ub=A_ub, b_ub=b_ub, A_eq=A_eq, b_eq=b_eq, bounds=(0,1))\n",
    "gamma = res.x\n",
    "\n",
    "expected_clairvoyant_utilities = [-res.fun for u in range(n_users)]\n",
    "expected_clairvoyant_bids = [sum(available_bids*gamma*win_probabilities) for u in range(n_users)]"
   ]
  }
 ],
 "metadata": {
  "kernelspec": {
   "display_name": "Python 3",
   "language": "python",
   "name": "python3"
  },
  "language_info": {
   "codemirror_mode": {
    "name": "ipython",
    "version": 3
   },
   "file_extension": ".py",
   "mimetype": "text/x-python",
   "name": "python",
   "nbconvert_exporter": "python",
   "pygments_lexer": "ipython3",
   "version": "3.12.3"
  }
 },
 "nbformat": 4,
 "nbformat_minor": 2
}
