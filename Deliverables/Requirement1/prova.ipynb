{
 "cells": [
  {
   "cell_type": "code",
   "execution_count": 6,
   "metadata": {},
   "outputs": [],
   "source": [
    "from pricing_environment import PricingEnvironment\n",
    "from pricing_agent import RBFGaussianProcess\n",
    "import numpy as np"
   ]
  },
  {
   "cell_type": "code",
   "execution_count": 7,
   "metadata": {},
   "outputs": [],
   "source": [
    "distr=lambda price,n_cust: np.random.binomial(n_cust, 1-price/20)\n",
    "env=PricingEnvironment(distr,5)"
   ]
  },
  {
   "cell_type": "code",
   "execution_count": 8,
   "metadata": {},
   "outputs": [
    {
     "data": {
      "text/plain": [
       "(93, -372)"
      ]
     },
     "execution_count": 8,
     "metadata": {},
     "output_type": "execute_result"
    }
   ],
   "source": [
    "env.round(1,100)"
   ]
  },
  {
   "cell_type": "code",
   "execution_count": 9,
   "metadata": {},
   "outputs": [],
   "source": [
    "agent=RBFGaussianProcess(scale=1)"
   ]
  },
  {
   "cell_type": "code",
   "execution_count": 16,
   "metadata": {},
   "outputs": [
    {
     "ename": "ValueError",
     "evalue": "all the input array dimensions except for the concatenation axis must match exactly, but along dimension 1, the array at index 0 has size 1 and the array at index 1 has size 10",
     "output_type": "error",
     "traceback": [
      "\u001b[1;31m---------------------------------------------------------------------------\u001b[0m",
      "\u001b[1;31mValueError\u001b[0m                                Traceback (most recent call last)",
      "\u001b[1;32md:\\misc\\Projects\\Python\\OLA-project\\Deliverables\\Requirement1\\prova.ipynb Cell 5\u001b[0m line \u001b[0;36m7\n\u001b[0;32m      <a href='vscode-notebook-cell:/d%3A/misc/Projects/Python/OLA-project/Deliverables/Requirement1/prova.ipynb#W4sZmlsZQ%3D%3D?line=3'>4</a>\u001b[0m price_samples \u001b[39m=\u001b[39m \u001b[39m10\u001b[39m \u001b[39m+\u001b[39m \u001b[39m10\u001b[39m \u001b[39m*\u001b[39m np\u001b[39m.\u001b[39mrandom\u001b[39m.\u001b[39msample(size\u001b[39m=\u001b[39m\u001b[39m10\u001b[39m)\u001b[39m.\u001b[39mround(\u001b[39m2\u001b[39m)\n\u001b[0;32m      <a href='vscode-notebook-cell:/d%3A/misc/Projects/Python/OLA-project/Deliverables/Requirement1/prova.ipynb#W4sZmlsZQ%3D%3D?line=4'>5</a>\u001b[0m normalized_sales_samples \u001b[39m=\u001b[39m np\u001b[39m.\u001b[39mrandom\u001b[39m.\u001b[39mbinomial(n_cust, conversion_probability(price_samples))\u001b[39m/\u001b[39mn_cust\n\u001b[1;32m----> <a href='vscode-notebook-cell:/d%3A/misc/Projects/Python/OLA-project/Deliverables/Requirement1/prova.ipynb#W4sZmlsZQ%3D%3D?line=6'>7</a>\u001b[0m agent\u001b[39m.\u001b[39;49mfit(price_samples, normalized_sales_samples)\n\u001b[0;32m      <a href='vscode-notebook-cell:/d%3A/misc/Projects/Python/OLA-project/Deliverables/Requirement1/prova.ipynb#W4sZmlsZQ%3D%3D?line=8'>9</a>\u001b[0m mu, sigma \u001b[39m=\u001b[39m agent\u001b[39m.\u001b[39mpredict(price_range)\n",
      "File \u001b[1;32md:\\misc\\Projects\\Python\\OLA-project\\Deliverables\\Requirement1\\pricing_agent.py:37\u001b[0m, in \u001b[0;36mRBFGaussianProcess.fit\u001b[1;34m(self, x, y)\u001b[0m\n\u001b[0;32m     35\u001b[0m \u001b[39melse\u001b[39;00m:\n\u001b[0;32m     36\u001b[0m     B \u001b[39m=\u001b[39m \u001b[39mself\u001b[39m\u001b[39m.\u001b[39mrbf_kernel(\u001b[39mself\u001b[39m\u001b[39m.\u001b[39mx, x)\n\u001b[1;32m---> 37\u001b[0m     \u001b[39mself\u001b[39m\u001b[39m.\u001b[39mx \u001b[39m=\u001b[39m np\u001b[39m.\u001b[39;49mvstack((\u001b[39mself\u001b[39;49m\u001b[39m.\u001b[39;49mx, x))\n\u001b[0;32m     38\u001b[0m     \u001b[39mself\u001b[39m\u001b[39m.\u001b[39my \u001b[39m=\u001b[39m np\u001b[39m.\u001b[39mvstack((\u001b[39mself\u001b[39m\u001b[39m.\u001b[39my, y))\n\u001b[0;32m     39\u001b[0m     \u001b[39mself\u001b[39m\u001b[39m.\u001b[39mk_xx_inv \u001b[39m=\u001b[39m \u001b[39mself\u001b[39m\u001b[39m.\u001b[39mrbf_kernel_incr_inv(B, B\u001b[39m.\u001b[39mT, np\u001b[39m.\u001b[39marray([\u001b[39m1\u001b[39m \u001b[39m+\u001b[39m \u001b[39mself\u001b[39m\u001b[39m.\u001b[39mreg]))\n",
      "File \u001b[1;32m~\\AppData\\Local\\Packages\\PythonSoftwareFoundation.Python.3.11_qbz5n2kfra8p0\\LocalCache\\local-packages\\Python311\\site-packages\\numpy\\core\\shape_base.py:289\u001b[0m, in \u001b[0;36mvstack\u001b[1;34m(tup, dtype, casting)\u001b[0m\n\u001b[0;32m    287\u001b[0m \u001b[39mif\u001b[39;00m \u001b[39mnot\u001b[39;00m \u001b[39misinstance\u001b[39m(arrs, \u001b[39mlist\u001b[39m):\n\u001b[0;32m    288\u001b[0m     arrs \u001b[39m=\u001b[39m [arrs]\n\u001b[1;32m--> 289\u001b[0m \u001b[39mreturn\u001b[39;00m _nx\u001b[39m.\u001b[39;49mconcatenate(arrs, \u001b[39m0\u001b[39;49m, dtype\u001b[39m=\u001b[39;49mdtype, casting\u001b[39m=\u001b[39;49mcasting)\n",
      "\u001b[1;31mValueError\u001b[0m: all the input array dimensions except for the concatenation axis must match exactly, but along dimension 1, the array at index 0 has size 1 and the array at index 1 has size 10"
     ]
    }
   ],
   "source": [
    "n_cust=100\n",
    "conversion_probability=lambda p: 1-p/20\n",
    "price_range = np.linspace(10,20,100)\n",
    "price_samples = 10 + 10 * np.random.sample(size=10).round(2)\n",
    "normalized_sales_samples = np.random.binomial(n_cust, conversion_probability(price_samples))/n_cust\n",
    "\n",
    "agent.fit(price_samples, normalized_sales_samples)\n",
    "\n",
    "mu, sigma = agent.predict(price_range)"
   ]
  },
  {
   "cell_type": "code",
   "execution_count": null,
   "metadata": {},
   "outputs": [],
   "source": []
  }
 ],
 "metadata": {
  "kernelspec": {
   "display_name": "Python 3",
   "language": "python",
   "name": "python3"
  },
  "language_info": {
   "codemirror_mode": {
    "name": "ipython",
    "version": 3
   },
   "file_extension": ".py",
   "mimetype": "text/x-python",
   "name": "python",
   "nbconvert_exporter": "python",
   "pygments_lexer": "ipython3",
   "version": "3.11.9"
  },
  "orig_nbformat": 4
 },
 "nbformat": 4,
 "nbformat_minor": 2
}
